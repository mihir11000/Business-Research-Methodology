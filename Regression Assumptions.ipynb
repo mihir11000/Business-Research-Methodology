{
 "cells": [
  {
   "cell_type": "code",
   "execution_count": 1,
   "id": "c403e804",
   "metadata": {},
   "outputs": [],
   "source": [
    "import numpy as np\n",
    "import pandas as pd\n",
    "import csv\n",
    "import matplotlib.pyplot as plt"
   ]
  },
  {
   "cell_type": "code",
   "execution_count": 3,
   "id": "818affbe",
   "metadata": {},
   "outputs": [
    {
     "data": {
      "text/html": [
       "<div>\n",
       "<style scoped>\n",
       "    .dataframe tbody tr th:only-of-type {\n",
       "        vertical-align: middle;\n",
       "    }\n",
       "\n",
       "    .dataframe tbody tr th {\n",
       "        vertical-align: top;\n",
       "    }\n",
       "\n",
       "    .dataframe thead th {\n",
       "        text-align: right;\n",
       "    }\n",
       "</style>\n",
       "<table border=\"1\" class=\"dataframe\">\n",
       "  <thead>\n",
       "    <tr style=\"text-align: right;\">\n",
       "      <th></th>\n",
       "      <th>age</th>\n",
       "      <th>sex</th>\n",
       "      <th>bmi</th>\n",
       "      <th>children</th>\n",
       "      <th>smoker</th>\n",
       "      <th>region</th>\n",
       "      <th>charges</th>\n",
       "    </tr>\n",
       "  </thead>\n",
       "  <tbody>\n",
       "    <tr>\n",
       "      <th>0</th>\n",
       "      <td>19</td>\n",
       "      <td>female</td>\n",
       "      <td>27.900</td>\n",
       "      <td>0</td>\n",
       "      <td>yes</td>\n",
       "      <td>southwest</td>\n",
       "      <td>16884.92400</td>\n",
       "    </tr>\n",
       "    <tr>\n",
       "      <th>1</th>\n",
       "      <td>18</td>\n",
       "      <td>male</td>\n",
       "      <td>33.770</td>\n",
       "      <td>1</td>\n",
       "      <td>no</td>\n",
       "      <td>southeast</td>\n",
       "      <td>1725.55230</td>\n",
       "    </tr>\n",
       "    <tr>\n",
       "      <th>2</th>\n",
       "      <td>28</td>\n",
       "      <td>male</td>\n",
       "      <td>33.000</td>\n",
       "      <td>3</td>\n",
       "      <td>no</td>\n",
       "      <td>southeast</td>\n",
       "      <td>4449.46200</td>\n",
       "    </tr>\n",
       "    <tr>\n",
       "      <th>3</th>\n",
       "      <td>33</td>\n",
       "      <td>male</td>\n",
       "      <td>22.705</td>\n",
       "      <td>0</td>\n",
       "      <td>no</td>\n",
       "      <td>northwest</td>\n",
       "      <td>21984.47061</td>\n",
       "    </tr>\n",
       "    <tr>\n",
       "      <th>4</th>\n",
       "      <td>32</td>\n",
       "      <td>male</td>\n",
       "      <td>28.880</td>\n",
       "      <td>0</td>\n",
       "      <td>no</td>\n",
       "      <td>northwest</td>\n",
       "      <td>3866.85520</td>\n",
       "    </tr>\n",
       "    <tr>\n",
       "      <th>...</th>\n",
       "      <td>...</td>\n",
       "      <td>...</td>\n",
       "      <td>...</td>\n",
       "      <td>...</td>\n",
       "      <td>...</td>\n",
       "      <td>...</td>\n",
       "      <td>...</td>\n",
       "    </tr>\n",
       "    <tr>\n",
       "      <th>1333</th>\n",
       "      <td>50</td>\n",
       "      <td>male</td>\n",
       "      <td>30.970</td>\n",
       "      <td>3</td>\n",
       "      <td>no</td>\n",
       "      <td>northwest</td>\n",
       "      <td>10600.54830</td>\n",
       "    </tr>\n",
       "    <tr>\n",
       "      <th>1334</th>\n",
       "      <td>18</td>\n",
       "      <td>female</td>\n",
       "      <td>31.920</td>\n",
       "      <td>0</td>\n",
       "      <td>no</td>\n",
       "      <td>northeast</td>\n",
       "      <td>2205.98080</td>\n",
       "    </tr>\n",
       "    <tr>\n",
       "      <th>1335</th>\n",
       "      <td>18</td>\n",
       "      <td>female</td>\n",
       "      <td>36.850</td>\n",
       "      <td>0</td>\n",
       "      <td>no</td>\n",
       "      <td>southeast</td>\n",
       "      <td>1629.83350</td>\n",
       "    </tr>\n",
       "    <tr>\n",
       "      <th>1336</th>\n",
       "      <td>21</td>\n",
       "      <td>female</td>\n",
       "      <td>25.800</td>\n",
       "      <td>0</td>\n",
       "      <td>no</td>\n",
       "      <td>southwest</td>\n",
       "      <td>2007.94500</td>\n",
       "    </tr>\n",
       "    <tr>\n",
       "      <th>1337</th>\n",
       "      <td>61</td>\n",
       "      <td>female</td>\n",
       "      <td>29.070</td>\n",
       "      <td>0</td>\n",
       "      <td>yes</td>\n",
       "      <td>northwest</td>\n",
       "      <td>29141.36030</td>\n",
       "    </tr>\n",
       "  </tbody>\n",
       "</table>\n",
       "<p>1338 rows × 7 columns</p>\n",
       "</div>"
      ],
      "text/plain": [
       "      age     sex     bmi  children smoker     region      charges\n",
       "0      19  female  27.900         0    yes  southwest  16884.92400\n",
       "1      18    male  33.770         1     no  southeast   1725.55230\n",
       "2      28    male  33.000         3     no  southeast   4449.46200\n",
       "3      33    male  22.705         0     no  northwest  21984.47061\n",
       "4      32    male  28.880         0     no  northwest   3866.85520\n",
       "...   ...     ...     ...       ...    ...        ...          ...\n",
       "1333   50    male  30.970         3     no  northwest  10600.54830\n",
       "1334   18  female  31.920         0     no  northeast   2205.98080\n",
       "1335   18  female  36.850         0     no  southeast   1629.83350\n",
       "1336   21  female  25.800         0     no  southwest   2007.94500\n",
       "1337   61  female  29.070         0    yes  northwest  29141.36030\n",
       "\n",
       "[1338 rows x 7 columns]"
      ]
     },
     "execution_count": 3,
     "metadata": {},
     "output_type": "execute_result"
    }
   ],
   "source": [
    "# Specify the path to your Excel file\n",
    "csv_file_path = \"D:\\\\2. DS-1\\\\insurance.csv\"\n",
    "\n",
    "# Read the Excel file into a DataFrame\n",
    "df = pd.read_csv(csv_file_path)\n",
    "\n",
    "# Now you can work with the DataFrame, for example, printing the first few rows\n",
    "df"
   ]
  },
  {
   "cell_type": "code",
   "execution_count": 7,
   "id": "8569ec9b",
   "metadata": {},
   "outputs": [
    {
     "name": "stdout",
     "output_type": "stream",
     "text": [
      "<class 'pandas.core.frame.DataFrame'>\n",
      "RangeIndex: 1338 entries, 0 to 1337\n",
      "Data columns (total 7 columns):\n",
      " #   Column    Non-Null Count  Dtype  \n",
      "---  ------    --------------  -----  \n",
      " 0   age       1338 non-null   int64  \n",
      " 1   sex       1338 non-null   object \n",
      " 2   bmi       1338 non-null   float64\n",
      " 3   children  1338 non-null   int64  \n",
      " 4   smoker    1338 non-null   object \n",
      " 5   region    1338 non-null   object \n",
      " 6   charges   1338 non-null   float64\n",
      "dtypes: float64(2), int64(2), object(3)\n",
      "memory usage: 73.3+ KB\n"
     ]
    }
   ],
   "source": [
    " df.info()"
   ]
  },
  {
   "cell_type": "code",
   "execution_count": 6,
   "id": "58c6bce4",
   "metadata": {},
   "outputs": [
    {
     "data": {
      "text/plain": [
       "age         0\n",
       "sex         0\n",
       "bmi         0\n",
       "children    0\n",
       "smoker      0\n",
       "region      0\n",
       "charges     0\n",
       "dtype: int64"
      ]
     },
     "execution_count": 6,
     "metadata": {},
     "output_type": "execute_result"
    }
   ],
   "source": [
    "df.isnull().sum()"
   ]
  },
  {
   "cell_type": "markdown",
   "id": "8e46582b",
   "metadata": {},
   "source": [
    "# Necessary Steps for Encoding the columns according the nature of the data in the columns"
   ]
  },
  {
   "cell_type": "code",
   "execution_count": 8,
   "id": "c27a8a0a",
   "metadata": {},
   "outputs": [],
   "source": [
    "from sklearn.preprocessing import LabelEncoder\n",
    "\n",
    "label_encoder = LabelEncoder()\n",
    "df['sex'] = label_encoder.fit_transform(df['sex'])\n",
    "df['smoker'] = label_encoder.fit_transform(df['smoker'])"
   ]
  },
  {
   "cell_type": "code",
   "execution_count": 9,
   "id": "077bc9fb",
   "metadata": {},
   "outputs": [],
   "source": [
    "df = pd.get_dummies(df, columns=['region'], drop_first=True)"
   ]
  },
  {
   "cell_type": "code",
   "execution_count": 10,
   "id": "f435278d",
   "metadata": {},
   "outputs": [],
   "source": [
    "from sklearn.preprocessing import StandardScaler\n",
    "\n",
    "# Select the numeric predictor columns\n",
    "numeric_columns = ['age', 'bmi', 'children']\n",
    "\n",
    "# Initialize the StandardScaler\n",
    "scaler = StandardScaler()\n",
    "\n",
    "# Fit and transform the scaler on the selected columns\n",
    "df[numeric_columns] = scaler.fit_transform(df[numeric_columns])\n"
   ]
  },
  {
   "cell_type": "code",
   "execution_count": 11,
   "id": "3bcb2a8b",
   "metadata": {},
   "outputs": [
    {
     "data": {
      "text/html": [
       "<div>\n",
       "<style scoped>\n",
       "    .dataframe tbody tr th:only-of-type {\n",
       "        vertical-align: middle;\n",
       "    }\n",
       "\n",
       "    .dataframe tbody tr th {\n",
       "        vertical-align: top;\n",
       "    }\n",
       "\n",
       "    .dataframe thead th {\n",
       "        text-align: right;\n",
       "    }\n",
       "</style>\n",
       "<table border=\"1\" class=\"dataframe\">\n",
       "  <thead>\n",
       "    <tr style=\"text-align: right;\">\n",
       "      <th></th>\n",
       "      <th>age</th>\n",
       "      <th>sex</th>\n",
       "      <th>bmi</th>\n",
       "      <th>children</th>\n",
       "      <th>smoker</th>\n",
       "      <th>charges</th>\n",
       "      <th>region_northwest</th>\n",
       "      <th>region_southeast</th>\n",
       "      <th>region_southwest</th>\n",
       "    </tr>\n",
       "  </thead>\n",
       "  <tbody>\n",
       "    <tr>\n",
       "      <th>0</th>\n",
       "      <td>-1.438764</td>\n",
       "      <td>0</td>\n",
       "      <td>-0.453320</td>\n",
       "      <td>-0.908614</td>\n",
       "      <td>1</td>\n",
       "      <td>16884.92400</td>\n",
       "      <td>0</td>\n",
       "      <td>0</td>\n",
       "      <td>1</td>\n",
       "    </tr>\n",
       "    <tr>\n",
       "      <th>1</th>\n",
       "      <td>-1.509965</td>\n",
       "      <td>1</td>\n",
       "      <td>0.509621</td>\n",
       "      <td>-0.078767</td>\n",
       "      <td>0</td>\n",
       "      <td>1725.55230</td>\n",
       "      <td>0</td>\n",
       "      <td>1</td>\n",
       "      <td>0</td>\n",
       "    </tr>\n",
       "    <tr>\n",
       "      <th>2</th>\n",
       "      <td>-0.797954</td>\n",
       "      <td>1</td>\n",
       "      <td>0.383307</td>\n",
       "      <td>1.580926</td>\n",
       "      <td>0</td>\n",
       "      <td>4449.46200</td>\n",
       "      <td>0</td>\n",
       "      <td>1</td>\n",
       "      <td>0</td>\n",
       "    </tr>\n",
       "    <tr>\n",
       "      <th>3</th>\n",
       "      <td>-0.441948</td>\n",
       "      <td>1</td>\n",
       "      <td>-1.305531</td>\n",
       "      <td>-0.908614</td>\n",
       "      <td>0</td>\n",
       "      <td>21984.47061</td>\n",
       "      <td>1</td>\n",
       "      <td>0</td>\n",
       "      <td>0</td>\n",
       "    </tr>\n",
       "    <tr>\n",
       "      <th>4</th>\n",
       "      <td>-0.513149</td>\n",
       "      <td>1</td>\n",
       "      <td>-0.292556</td>\n",
       "      <td>-0.908614</td>\n",
       "      <td>0</td>\n",
       "      <td>3866.85520</td>\n",
       "      <td>1</td>\n",
       "      <td>0</td>\n",
       "      <td>0</td>\n",
       "    </tr>\n",
       "    <tr>\n",
       "      <th>...</th>\n",
       "      <td>...</td>\n",
       "      <td>...</td>\n",
       "      <td>...</td>\n",
       "      <td>...</td>\n",
       "      <td>...</td>\n",
       "      <td>...</td>\n",
       "      <td>...</td>\n",
       "      <td>...</td>\n",
       "      <td>...</td>\n",
       "    </tr>\n",
       "    <tr>\n",
       "      <th>1333</th>\n",
       "      <td>0.768473</td>\n",
       "      <td>1</td>\n",
       "      <td>0.050297</td>\n",
       "      <td>1.580926</td>\n",
       "      <td>0</td>\n",
       "      <td>10600.54830</td>\n",
       "      <td>1</td>\n",
       "      <td>0</td>\n",
       "      <td>0</td>\n",
       "    </tr>\n",
       "    <tr>\n",
       "      <th>1334</th>\n",
       "      <td>-1.509965</td>\n",
       "      <td>0</td>\n",
       "      <td>0.206139</td>\n",
       "      <td>-0.908614</td>\n",
       "      <td>0</td>\n",
       "      <td>2205.98080</td>\n",
       "      <td>0</td>\n",
       "      <td>0</td>\n",
       "      <td>0</td>\n",
       "    </tr>\n",
       "    <tr>\n",
       "      <th>1335</th>\n",
       "      <td>-1.509965</td>\n",
       "      <td>0</td>\n",
       "      <td>1.014878</td>\n",
       "      <td>-0.908614</td>\n",
       "      <td>0</td>\n",
       "      <td>1629.83350</td>\n",
       "      <td>0</td>\n",
       "      <td>1</td>\n",
       "      <td>0</td>\n",
       "    </tr>\n",
       "    <tr>\n",
       "      <th>1336</th>\n",
       "      <td>-1.296362</td>\n",
       "      <td>0</td>\n",
       "      <td>-0.797813</td>\n",
       "      <td>-0.908614</td>\n",
       "      <td>0</td>\n",
       "      <td>2007.94500</td>\n",
       "      <td>0</td>\n",
       "      <td>0</td>\n",
       "      <td>1</td>\n",
       "    </tr>\n",
       "    <tr>\n",
       "      <th>1337</th>\n",
       "      <td>1.551686</td>\n",
       "      <td>0</td>\n",
       "      <td>-0.261388</td>\n",
       "      <td>-0.908614</td>\n",
       "      <td>1</td>\n",
       "      <td>29141.36030</td>\n",
       "      <td>1</td>\n",
       "      <td>0</td>\n",
       "      <td>0</td>\n",
       "    </tr>\n",
       "  </tbody>\n",
       "</table>\n",
       "<p>1338 rows × 9 columns</p>\n",
       "</div>"
      ],
      "text/plain": [
       "           age  sex       bmi  children  smoker      charges  \\\n",
       "0    -1.438764    0 -0.453320 -0.908614       1  16884.92400   \n",
       "1    -1.509965    1  0.509621 -0.078767       0   1725.55230   \n",
       "2    -0.797954    1  0.383307  1.580926       0   4449.46200   \n",
       "3    -0.441948    1 -1.305531 -0.908614       0  21984.47061   \n",
       "4    -0.513149    1 -0.292556 -0.908614       0   3866.85520   \n",
       "...        ...  ...       ...       ...     ...          ...   \n",
       "1333  0.768473    1  0.050297  1.580926       0  10600.54830   \n",
       "1334 -1.509965    0  0.206139 -0.908614       0   2205.98080   \n",
       "1335 -1.509965    0  1.014878 -0.908614       0   1629.83350   \n",
       "1336 -1.296362    0 -0.797813 -0.908614       0   2007.94500   \n",
       "1337  1.551686    0 -0.261388 -0.908614       1  29141.36030   \n",
       "\n",
       "      region_northwest  region_southeast  region_southwest  \n",
       "0                    0                 0                 1  \n",
       "1                    0                 1                 0  \n",
       "2                    0                 1                 0  \n",
       "3                    1                 0                 0  \n",
       "4                    1                 0                 0  \n",
       "...                ...               ...               ...  \n",
       "1333                 1                 0                 0  \n",
       "1334                 0                 0                 0  \n",
       "1335                 0                 1                 0  \n",
       "1336                 0                 0                 1  \n",
       "1337                 1                 0                 0  \n",
       "\n",
       "[1338 rows x 9 columns]"
      ]
     },
     "execution_count": 11,
     "metadata": {},
     "output_type": "execute_result"
    }
   ],
   "source": [
    "df"
   ]
  },
  {
   "cell_type": "markdown",
   "id": "824c72b2",
   "metadata": {},
   "source": [
    "# 1) First Assumption for Regression Analysis is there should not be any missing values in the Data, so that's why first I need to check missing values in the Dataframe."
   ]
  },
  {
   "cell_type": "code",
   "execution_count": 12,
   "id": "bd662f1f",
   "metadata": {},
   "outputs": [
    {
     "data": {
      "text/plain": [
       "age                 0\n",
       "sex                 0\n",
       "bmi                 0\n",
       "children            0\n",
       "smoker              0\n",
       "charges             0\n",
       "region_northwest    0\n",
       "region_southeast    0\n",
       "region_southwest    0\n",
       "dtype: int64"
      ]
     },
     "execution_count": 12,
     "metadata": {},
     "output_type": "execute_result"
    }
   ],
   "source": [
    "df.isnull().sum()"
   ]
  },
  {
   "cell_type": "markdown",
   "id": "37e74230",
   "metadata": {},
   "source": [
    "It Shows that there is no missing values in the Data-Frame"
   ]
  },
  {
   "cell_type": "code",
   "execution_count": 13,
   "id": "3c216215",
   "metadata": {},
   "outputs": [
    {
     "name": "stdout",
     "output_type": "stream",
     "text": [
      "Model Intercept: 9053.492450440157\n",
      "R-squared (R2): 0.7509130345985207\n",
      "Model Coefficients:\n",
      "age: 3607.4727361941896\n",
      "bmi: 2067.6919658434176\n",
      "children: 572.9982099480684\n",
      "sex: -131.31435939511468\n",
      "smoker: 23848.53454191283\n",
      "region_northwest: -352.9638994246452\n",
      "region_southeast: -1035.0220493878176\n",
      "region_southwest: -960.0509913008286\n"
     ]
    }
   ],
   "source": [
    "import pandas as pd\n",
    "from sklearn.linear_model import LinearRegression\n",
    "from sklearn.metrics import mean_absolute_error, mean_squared_error, r2_score\n",
    "\n",
    "# Define your features and target variable\n",
    "X = df[['age', 'bmi', 'children', 'sex', 'smoker', 'region_northwest', 'region_southeast', 'region_southwest']]\n",
    "y = df['charges']\n",
    "\n",
    "# Create a multilinear regression model\n",
    "model = LinearRegression()\n",
    "\n",
    "# Fit the model to the entire dataset\n",
    "model.fit(X, y)\n",
    "\n",
    "# Make predictions using the entire dataset\n",
    "y_pred = model.predict(X)\n",
    "\n",
    "# Evaluate the model (on the same data, which is not typical, but useful for demonstration)\n",
    "r2 = r2_score(y, y_pred)\n",
    "\n",
    "# Print model intercept and evaluation metrics\n",
    "print(\"Model Intercept:\", model.intercept_)\n",
    "print(\"R-squared (R2):\", r2)\n",
    "\n",
    "# Print model coefficients\n",
    "print(\"Model Coefficients:\")\n",
    "for feature, coef in zip(X.columns, model.coef_):\n",
    "    print(f\"{feature}: {coef}\")\n"
   ]
  },
  {
   "cell_type": "markdown",
   "id": "375216f6",
   "metadata": {},
   "source": [
    " MODEL EQUATION\n",
    "\n",
    "y = 9053.49 + (3607.47 * x1) + (2067.69 * x2) + (572.99 * x3) + (-131.31 * x4) + (23848.53 * x5) + (-352.96 * x6) + (-1035.02 * x7) + (-960.05 * x8)\n",
    "\n",
    " x1 = age , x2 = bmi , x3 = children ,x4 = sex,\n",
    "\n",
    "x5 = smoker, x6 = region_northwest , x7 = region_southeast , x8 = region_southwest\n"
   ]
  },
  {
   "cell_type": "markdown",
   "id": "7a9ce06a",
   "metadata": {},
   "source": [
    "# 2) Second Assumption is the Mean of  All Errors should be '0' Zero."
   ]
  },
  {
   "cell_type": "code",
   "execution_count": 20,
   "id": "6e000163",
   "metadata": {},
   "outputs": [
    {
     "data": {
      "text/plain": [
       "0       -8408.789028\n",
       "1       -1723.050534\n",
       "2       -2257.526491\n",
       "3       18229.640447\n",
       "4       -1725.638186\n",
       "            ...     \n",
       "1333    -1750.775386\n",
       "1334    -1305.950009\n",
       "1335    -2519.298986\n",
       "1336      761.360061\n",
       "1337    -7944.262968\n",
       "Name: charges, Length: 1338, dtype: float64"
      ]
     },
     "execution_count": 20,
     "metadata": {},
     "output_type": "execute_result"
    }
   ],
   "source": [
    "# Calculate the errors\n",
    "errors = y - y_pred\n",
    "errors"
   ]
  },
  {
   "cell_type": "code",
   "execution_count": 21,
   "id": "489440df",
   "metadata": {},
   "outputs": [
    {
     "name": "stdout",
     "output_type": "stream",
     "text": [
      "Mean of Errors: -1.794518694081114e-12\n"
     ]
    }
   ],
   "source": [
    "# Calculate the mean of errors\n",
    "mean_error = errors.mean()\n",
    "\n",
    "print(\"Mean of Errors:\", mean_error)"
   ]
  },
  {
   "cell_type": "markdown",
   "id": "29edc962",
   "metadata": {},
   "source": [
    "Here, we can see that Mean of All Errors is not 0 ,but it is Negative, if we square the errors for understanding actual magnitude of errors."
   ]
  },
  {
   "cell_type": "code",
   "execution_count": 22,
   "id": "53a857c5",
   "metadata": {},
   "outputs": [
    {
     "name": "stdout",
     "output_type": "stream",
     "text": [
      "Mean Squared Error (MSE): 36501893.00741544\n"
     ]
    }
   ],
   "source": [
    "# Calculate the squared errors\n",
    "squared_errors = (y - y_pred) ** 2\n",
    "\n",
    "# Calculate the mean squared error (MSE)\n",
    "mse = squared_errors.mean()\n",
    "\n",
    "print(\"Mean Squared Error (MSE):\", mse)\n"
   ]
  },
  {
   "cell_type": "markdown",
   "id": "b74e6e7b",
   "metadata": {},
   "source": [
    "# 3) Third Assumption of Regression is, All Errors of the Model should be Normally Distributed."
   ]
  },
  {
   "cell_type": "code",
   "execution_count": 25,
   "id": "6df79ca0",
   "metadata": {},
   "outputs": [
    {
     "data": {
      "image/png": "[encoded data removed]",
      "text/plain": [
       "<Figure size 640x480 with 1 Axes>"
      ]
     },
     "metadata": {},
     "output_type": "display_data"
    }
   ],
   "source": [
    "import seaborn as sns\n",
    "import matplotlib.pyplot as plt\n",
    "\n",
    "# Calculate the residuals\n",
    "residuals = y - y_pred\n",
    "\n",
    "# Create a kernel density plot of the residuals\n",
    "sns.kdeplot(residuals, fill=True, color='b', label='Residuals')\n",
    "plt.xlabel('Residuals')\n",
    "plt.ylabel('Density')\n",
    "plt.title('Kernel Density Plot of Residuals')\n",
    "plt.legend(loc='upper right')\n",
    "plt.show()\n"
   ]
  },
  {
   "cell_type": "markdown",
   "id": "4dc13de8",
   "metadata": {},
   "source": [
    "Here, It is observed that,this curve closely follows a normal distribution (bell-shaped), it suggests that the residuals are approximately normally distributed, which is one of the assumptions of linear regression.\n",
    "\n",
    "The Curve is a roughly bell-shaped curve, which indicates a normal distribution. \n",
    "\n",
    "Due to, smaller sample sizes, the distribution may not appear perfectly normal.\n",
    "\n",
    "As higher the sample sizes, the curve will become prefectly normal."
   ]
  },
  {
   "cell_type": "markdown",
   "id": "a2934911",
   "metadata": {},
   "source": [
    "# 4) Forth, Assumption of Regression is Errors should not Correlated with all Independent Variables of Model."
   ]
  },
  {
   "cell_type": "code",
   "execution_count": 26,
   "id": "6d1f3800",
   "metadata": {},
   "outputs": [
    {
     "name": "stdout",
     "output_type": "stream",
     "text": [
      "age                -9.189716e-16\n",
      "bmi                 9.802889e-16\n",
      "children           -3.937919e-15\n",
      "sex                 6.380721e-16\n",
      "smoker              2.590074e-16\n",
      "region_northwest    1.852255e-16\n",
      "region_southeast    1.164238e-16\n",
      "region_southwest   -2.684589e-16\n",
      "Residuals           1.000000e+00\n",
      "Name: Residuals, dtype: float64\n"
     ]
    }
   ],
   "source": [
    "import pandas as pd\n",
    "\n",
    "# Calculate the residuals\n",
    "residuals = y - y_pred\n",
    "\n",
    "# Create a dataframe containing residuals and independent variables\n",
    "residuals_df = pd.DataFrame({'Residuals': residuals})\n",
    "independent_variables_df = X.copy()\n",
    "\n",
    "# Concatenate residuals and independent variables\n",
    "correlation_df = pd.concat([independent_variables_df, residuals_df], axis=1)\n",
    "\n",
    "# Calculate correlations\n",
    "correlations = correlation_df.corr()\n",
    "\n",
    "# Display the correlation coefficients\n",
    "print(correlations['Residuals'])\n"
   ]
  },
  {
   "cell_type": "markdown",
   "id": "20987bdb",
   "metadata": {},
   "source": [
    "Here, we can see that there is a correlation between Errors and Independent Variables , however there should not be any correlation between them."
   ]
  },
  {
   "cell_type": "markdown",
   "id": "ac9eb5c3",
   "metadata": {},
   "source": [
    "# 5) Fifth, assumption for Regression is Varience of all Independent Variables should be Same, there should not be more difference between the varience of All Independent Variables.\n",
    "Principle Of Homescadacity Should be Followed."
   ]
  },
  {
   "cell_type": "code",
   "execution_count": 27,
   "id": "ace78990",
   "metadata": {},
   "outputs": [
    {
     "data": {
      "text/html": [
       "<div>\n",
       "<style scoped>\n",
       "    .dataframe tbody tr th:only-of-type {\n",
       "        vertical-align: middle;\n",
       "    }\n",
       "\n",
       "    .dataframe tbody tr th {\n",
       "        vertical-align: top;\n",
       "    }\n",
       "\n",
       "    .dataframe thead th {\n",
       "        text-align: right;\n",
       "    }\n",
       "</style>\n",
       "<table border=\"1\" class=\"dataframe\">\n",
       "  <thead>\n",
       "    <tr style=\"text-align: right;\">\n",
       "      <th></th>\n",
       "      <th>Variable</th>\n",
       "      <th>VIF</th>\n",
       "    </tr>\n",
       "  </thead>\n",
       "  <tbody>\n",
       "    <tr>\n",
       "      <th>0</th>\n",
       "      <td>const</td>\n",
       "      <td>5.428992</td>\n",
       "    </tr>\n",
       "    <tr>\n",
       "      <th>1</th>\n",
       "      <td>age</td>\n",
       "      <td>1.016822</td>\n",
       "    </tr>\n",
       "    <tr>\n",
       "      <th>2</th>\n",
       "      <td>bmi</td>\n",
       "      <td>1.106630</td>\n",
       "    </tr>\n",
       "    <tr>\n",
       "      <th>3</th>\n",
       "      <td>children</td>\n",
       "      <td>1.004011</td>\n",
       "    </tr>\n",
       "    <tr>\n",
       "      <th>4</th>\n",
       "      <td>sex</td>\n",
       "      <td>1.008900</td>\n",
       "    </tr>\n",
       "    <tr>\n",
       "      <th>5</th>\n",
       "      <td>smoker</td>\n",
       "      <td>1.012074</td>\n",
       "    </tr>\n",
       "    <tr>\n",
       "      <th>6</th>\n",
       "      <td>region_northwest</td>\n",
       "      <td>1.518823</td>\n",
       "    </tr>\n",
       "    <tr>\n",
       "      <th>7</th>\n",
       "      <td>region_southeast</td>\n",
       "      <td>1.652230</td>\n",
       "    </tr>\n",
       "    <tr>\n",
       "      <th>8</th>\n",
       "      <td>region_southwest</td>\n",
       "      <td>1.529411</td>\n",
       "    </tr>\n",
       "  </tbody>\n",
       "</table>\n",
       "</div>"
      ],
      "text/plain": [
       "           Variable       VIF\n",
       "0             const  5.428992\n",
       "1               age  1.016822\n",
       "2               bmi  1.106630\n",
       "3          children  1.004011\n",
       "4               sex  1.008900\n",
       "5            smoker  1.012074\n",
       "6  region_northwest  1.518823\n",
       "7  region_southeast  1.652230\n",
       "8  region_southwest  1.529411"
      ]
     },
     "execution_count": 27,
     "metadata": {},
     "output_type": "execute_result"
    }
   ],
   "source": [
    "import pandas as pd\n",
    "import statsmodels.api as sm\n",
    "from statsmodels.stats.outliers_influence import variance_inflation_factor\n",
    "\n",
    "# Create a dataframe containing only the independent variables (X)\n",
    "X_df = pd.DataFrame(X, columns=['age', 'bmi', 'children', 'sex', 'smoker', 'region_northwest', 'region_southeast', 'region_southwest'])\n",
    "\n",
    "# Add a constant term (intercept) to the independent variables\n",
    "X_with_const = sm.add_constant(X_df)\n",
    "\n",
    "# Calculate VIF for each independent variable\n",
    "vif = pd.DataFrame()\n",
    "vif[\"Variable\"] = X_with_const.columns\n",
    "vif[\"VIF\"] = [variance_inflation_factor(X_with_const.values, i) for i in range(X_with_const.shape[1])]\n",
    "\n",
    "# Display the VIF values\n",
    "vif\n"
   ]
  },
  {
   "cell_type": "markdown",
   "id": "1072a044",
   "metadata": {},
   "source": [
    "To check the variance or error of all independent variables in your linear regression model, it is calculated by the Variance Inflation Factor (VIF) for each independent variable. \n",
    "\n",
    "VIF measures the extent to which the variance of an independent variable is inflated due to multicollinearity (correlation between independent variables). \n",
    "\n",
    "High VIF values indicate that an independent variable is highly correlated with others, which can lead to unstable coefficient estimates."
   ]
  },
  {
   "cell_type": "markdown",
   "id": "1b66df77",
   "metadata": {},
   "source": [
    "High VIF values (typically greater than 5 or 10) may indicate multicollinearity and suggest that you should further examine the relationships between these variables or consider excluding some variables from your model.\n",
    "\n",
    "Lower VIF values indicate lower multicollinearity and more stable coefficient estimates."
   ]
  },
  {
   "cell_type": "markdown",
   "id": "fd046132",
   "metadata": {},
   "source": [
    "Here,we can say that there is no Multicolinearity in this Model."
   ]
  },
  {
   "cell_type": "markdown",
   "id": "cde966b4",
   "metadata": {},
   "source": [
    "# 6) Sixth Assumption for Regression is there should not be correlation or association between all Independent Vatiables."
   ]
  },
  {
   "cell_type": "code",
   "execution_count": 28,
   "id": "c7176c17",
   "metadata": {},
   "outputs": [
    {
     "data": {
      "image/png": "[encoded data removed]",
      "text/plain": [
       "<Figure size 1000x800 with 2 Axes>"
      ]
     },
     "metadata": {},
     "output_type": "display_data"
    }
   ],
   "source": [
    "import pandas as pd\n",
    "import seaborn as sns\n",
    "import matplotlib.pyplot as plt\n",
    "\n",
    "# Create a dataframe containing only the independent variables (X)\n",
    "X_df = pd.DataFrame(X, columns=['age', 'bmi', 'children', 'sex', 'smoker', 'region_northwest', 'region_southeast', 'region_southwest'])\n",
    "\n",
    "# Calculate the correlation matrix\n",
    "correlation_matrix = X_df.corr()\n",
    "\n",
    "# Create a heatmap to visualize the correlation matrix\n",
    "plt.figure(figsize=(10, 8))\n",
    "sns.heatmap(correlation_matrix, annot=True, cmap='coolwarm', fmt=\".2f\", linewidths=0.5)\n",
    "plt.title('Correlation Heatmap of Independent Variables')\n",
    "plt.show()\n"
   ]
  },
  {
   "cell_type": "markdown",
   "id": "98504185",
   "metadata": {},
   "source": [
    "The heatmap is a graphical representation of the correlation matrix.\n",
    "\n",
    "Each cell in the heatmap represents the correlation coefficient between two independent variables. \n",
    "\n",
    "The color of each cell indicates the strength and direction of the correlation.\n",
    "\n",
    "Colors typically range from blue (negative correlation) through white (no correlation) to red (positive correlation).\n",
    "\n",
    "The numbers in each cell (annotated in the heatmap) represent the correlation coefficients.\n",
    "\n",
    "Positive values indicate a positive correlation, meaning that as one variable increases, the other tends to increase as well.\n",
    "\n",
    "Negative values indicate a negative correlation, meaning that as one variable increases, the other tends to decrease.\n",
    "\n",
    "Values close to zero suggest little to no linear correlation between the variables.\n",
    "\n",
    "Still here it is observed that, there is a Correlation and Association between Independent Variables."
   ]
  },
  {
   "cell_type": "markdown",
   "id": "1eefa709",
   "metadata": {},
   "source": [
    "# That's How All Assumption for Regression can be Checked."
   ]
  }
 ],
 "metadata": {
  "kernelspec": {
   "display_name": "Python 3 (ipykernel)",
   "language": "python",
   "name": "python3"
  },
  "language_info": {
   "codemirror_mode": {
    "name": "ipython",
    "version": 3
   },
   "file_extension": ".py",
   "mimetype": "text/x-python",
   "name": "python",
   "nbconvert_exporter": "python",
   "pygments_lexer": "ipython3",
   "version": "3.10.9"
  }
 },
 "nbformat": 4,
 "nbformat_minor": 5
}
